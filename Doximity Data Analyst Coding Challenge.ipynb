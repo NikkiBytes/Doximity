{
 "cells": [
  {
   "cell_type": "markdown",
   "metadata": {},
   "source": [
    "# Doximity Data Analyst Coding Challenge\n",
    "## Author: Nichollette Acosta "
   ]
  },
  {
   "cell_type": "markdown",
   "metadata": {},
   "source": [
    "## PART 1\n",
    "Background\n",
    "\n",
    "In our newsfeed, we show both news content and social updates to our users. In the case of social updates, we want to surface to a user (userA) content about the other users on the site he or she cares most about. We utilize an \"affinity score\" between userA and other users to quantify the strength of their relationship. In our newsfeed, our goal is then to rank order social updates according to this affinity score. "
   ]
  },
  {
   "cell_type": "markdown",
   "metadata": {},
   "source": [
    "You are given a large CSV file of affinity scores for every unique user-user pair. Your task is to find, for every user_id value, the other user_id value that maximizes the affinity score."
   ]
  },
  {
   "cell_type": "markdown",
   "metadata": {},
   "source": [
    "You should provide python code that reads the data from this CSV and returns the desired \"best matches\" (highest affinity scores). The exact format of your function’s output is up to you, but it should be something that is easy to validate and that can be called by other functions. If you make any assumptions about these data - you are welcome to do so - please make these assumptions clear in your solution and write a sentence or two to justify the"
   ]
  },
  {
   "cell_type": "code",
   "execution_count": 2,
   "metadata": {
    "collapsed": true
   },
   "outputs": [],
   "source": [
    "%matplotlib inline\n",
    "import pandas as pd\n",
    "import numpy as np\n",
    "import seaborn as sea\n",
    "import matplotlib.pyplot as plt"
   ]
  },
  {
   "cell_type": "markdown",
   "metadata": {},
   "source": [
    "________________________________________________________________________________________________________________________________\n",
    "\n",
    "I made the assumption that that various data may not always be labeled to the same naming convention, therefore I grab the column names and then grab relevant data. I used pandas and the chunksize parameter to load chunks of data. \n",
    "\n",
    "Due to time contrainsts the chunksize is hardcoded and the input file, this could be customized more to automatically detect number of users, n, and automatically assign chunksize to n-1. \n",
    "\n",
    "\n"
   ]
  },
  {
   "cell_type": "code",
   "execution_count": 144,
   "metadata": {
    "scrolled": false
   },
   "outputs": [
    {
     "name": "stdout",
     "output_type": "stream",
     "text": [
      "   UserA  UserB  Affinity score\n",
      "0      1      2            0.80\n",
      "1      1      3            0.09\n",
      "UserA             1.0\n",
      "UserB             2.0\n",
      "Affinity score    0.8\n",
      "   UserA  UserB  Affinity score\n",
      "2      2      1            0.09\n",
      "3      2      3            0.56\n",
      "UserA             2.00\n",
      "UserB             3.00\n",
      "Affinity score    0.56\n",
      "   UserA  UserB  Affinity score\n",
      "4      3      1            0.54\n",
      "5      3      2            0.99\n",
      "UserA             3.00\n",
      "UserB             2.00\n",
      "Affinity score    0.99\n"
     ]
    }
   ],
   "source": [
    "chunks = pd.read_csv(\"affinity.csv\", chunksize=2,iterator=True)\n",
    "output_df = pd.DataFrame(columns=['UserA', 'UserB', 'Affinity Score'])\n",
    "\n",
    "for chunk in chunks:\n",
    "    print(chunk)\n",
    "    userA_col = chunk.columns[0]\n",
    "    userB_col = chunk.columns[1]\n",
    "    affinity_col = chunk.columns[2]\n",
    "    temp = [userB_value, ',',affinity_value]\n",
    "    affinity_dict.update({userA_value:temp})\n",
    "    \n",
    "    print(chunk.loc[chunk[affinity_col].idxmax()].to_string())\n",
    "    \n"
   ]
  },
  {
   "cell_type": "markdown",
   "metadata": {},
   "source": [
    "## PART 2  "
   ]
  },
  {
   "cell_type": "markdown",
   "metadata": {},
   "source": [
    "## 1) Using the table names and relations shown in the schema diagram above, please write SQL queries designed to address the following questions (since the data are not in a database, we're just looking for the queries you would write):  "
   ]
  },
  {
   "cell_type": "markdown",
   "metadata": {},
   "source": [
    "<b>a. What is the average age of users by region?</b>\n",
    "\n",
    "SELECT AVG(age)<br>\n",
    "FROM users<br>\n",
    "GROUP BY region;<br>\n",
    "\n",
    "\n",
    "<b>b. Can you generate a ranked list of the top 10 most viewed users based on internal profile views?</b>\n",
    "\n",
    "SELECT COUNT(viewed_user_id)<br>\n",
    "FROM internal_profile_views<br>\n",
    "GROUP BY viewed_user_id<br>\n",
    "ORDER BY COUNT(viewed_user_id) DESC<br>\n",
    "LIMIT 10;<br>\n",
    "\n",
    "\n",
    "<b>c. Which region gets the most viewed users based on internal profile views?</b>\n",
    "\n",
    "SELECT COUNT(U.region), F.viewed_user_id as user_regions<br>\n",
    "FROM user_frequency F RIGHT JOIN users U<br>\n",
    "ON F.viewed_user_id == U.id <br>\n",
    "GROUP BY U.region <br>\n",
    "ORDER BY COUNT(U.region) DESC<br>\n",
    "LIMIT 1; <br>"
   ]
  },
  {
   "cell_type": "markdown",
   "metadata": {},
   "source": [
    "## 2) The product manager has some questions about the data and is looking to you for some insight. Using python, please perform analyses using the compressed CSVs provided (assume they are up-to-date dumps of the tables shown in the database schema above) to address the following questions, providing a written explanation to the product manager of what you find for each."
   ]
  },
  {
   "cell_type": "code",
   "execution_count": 147,
   "metadata": {
    "collapsed": true
   },
   "outputs": [],
   "source": [
    "user_data = pd.read_csv(\"users.csv\")\n",
    "user_profile_urls = pd.read_csv(\"user_profile_urls.csv\")\n",
    "titles = pd.read_csv(\"titles.csv\")\n",
    "internal_profile_data = pd.read_csv(\"internal_profile_views.csv\")\n",
    "external_profile_data = pd.read_csv(\"external_profile_views.csv\")"
   ]
  },
  {
   "cell_type": "markdown",
   "metadata": {},
   "source": [
    "#### a. Identify one or two trends in the data that are interesting from a data perspective. Do the trends you observe have any effect on how you would build your ranking feature? In a sentence or two, how would you communicate these findings to a non-technical project manager?"
   ]
  },
  {
   "cell_type": "markdown",
   "metadata": {},
   "source": [
    "Sorting the data from <i>users.csv</i> by age and firstname. "
   ]
  },
  {
   "cell_type": "code",
   "execution_count": 148,
   "metadata": {},
   "outputs": [
    {
     "data": {
      "text/html": [
       "<div>\n",
       "<style>\n",
       "    .dataframe thead tr:only-child th {\n",
       "        text-align: right;\n",
       "    }\n",
       "\n",
       "    .dataframe thead th {\n",
       "        text-align: left;\n",
       "    }\n",
       "\n",
       "    .dataframe tbody tr th {\n",
       "        vertical-align: top;\n",
       "    }\n",
       "</style>\n",
       "<table border=\"1\" class=\"dataframe\">\n",
       "  <thead>\n",
       "    <tr style=\"text-align: right;\">\n",
       "      <th></th>\n",
       "      <th>id</th>\n",
       "      <th>firstname</th>\n",
       "      <th>lastname</th>\n",
       "      <th>age</th>\n",
       "      <th>region</th>\n",
       "      <th>title_id</th>\n",
       "    </tr>\n",
       "  </thead>\n",
       "  <tbody>\n",
       "    <tr>\n",
       "      <th>31028</th>\n",
       "      <td>225306</td>\n",
       "      <td>Aaron</td>\n",
       "      <td>Smith</td>\n",
       "      <td>20</td>\n",
       "      <td>Other</td>\n",
       "      <td>6</td>\n",
       "    </tr>\n",
       "    <tr>\n",
       "      <th>44740</th>\n",
       "      <td>335488</td>\n",
       "      <td>Aaron</td>\n",
       "      <td>Homer</td>\n",
       "      <td>20</td>\n",
       "      <td>South</td>\n",
       "      <td>1</td>\n",
       "    </tr>\n",
       "    <tr>\n",
       "      <th>49333</th>\n",
       "      <td>359101</td>\n",
       "      <td>Aaron</td>\n",
       "      <td>Lemasters</td>\n",
       "      <td>20</td>\n",
       "      <td>Midwest</td>\n",
       "      <td>6</td>\n",
       "    </tr>\n",
       "    <tr>\n",
       "      <th>52088</th>\n",
       "      <td>378358</td>\n",
       "      <td>Aaron</td>\n",
       "      <td>Allison</td>\n",
       "      <td>20</td>\n",
       "      <td>Northeast</td>\n",
       "      <td>2</td>\n",
       "    </tr>\n",
       "    <tr>\n",
       "      <th>55808</th>\n",
       "      <td>403417</td>\n",
       "      <td>Aaron</td>\n",
       "      <td>King</td>\n",
       "      <td>20</td>\n",
       "      <td>Midwest</td>\n",
       "      <td>5</td>\n",
       "    </tr>\n",
       "  </tbody>\n",
       "</table>\n",
       "</div>"
      ],
      "text/plain": [
       "           id firstname   lastname  age     region  title_id\n",
       "31028  225306     Aaron      Smith   20      Other         6\n",
       "44740  335488     Aaron      Homer   20      South         1\n",
       "49333  359101     Aaron  Lemasters   20    Midwest         6\n",
       "52088  378358     Aaron    Allison   20  Northeast         2\n",
       "55808  403417     Aaron       King   20    Midwest         5"
      ]
     },
     "execution_count": 148,
     "metadata": {},
     "output_type": "execute_result"
    }
   ],
   "source": [
    "user_data = user_data.sort_values(['age', 'firstname'], ascending=True)\n",
    "user_data.head()"
   ]
  },
  {
   "cell_type": "markdown",
   "metadata": {},
   "source": [
    "Looking at the shape of our user data we see have 600,000 rows (users). "
   ]
  },
  {
   "cell_type": "code",
   "execution_count": 149,
   "metadata": {},
   "outputs": [
    {
     "data": {
      "text/plain": [
       "(600000, 6)"
      ]
     },
     "execution_count": 149,
     "metadata": {},
     "output_type": "execute_result"
    }
   ],
   "source": [
    "user_data.shape"
   ]
  },
  {
   "cell_type": "markdown",
   "metadata": {},
   "source": [
    "Plotting a histogram to look at the distribution of age of our users."
   ]
  },
  {
   "cell_type": "code",
   "execution_count": 150,
   "metadata": {},
   "outputs": [
    {
     "data": {
      "text/plain": [
       "Text(0.5,1.05,'Distribution of users by age')"
      ]
     },
     "execution_count": 150,
     "metadata": {},
     "output_type": "execute_result"
    },
    {
     "data": {
      "text/plain": [
       "<matplotlib.figure.Figure at 0x201cafe7128>"
      ]
     },
     "metadata": {},
     "output_type": "display_data"
    },
    {
     "data": {
      "image/png": "[encoded data removed]",
      "text/plain": [
       "<matplotlib.figure.Figure at 0x201cafb6e48>"
      ]
     },
     "metadata": {},
     "output_type": "display_data"
    }
   ],
   "source": [
    "plt.figure();\n",
    "user_data.hist(column='age')\n",
    "plt.xlabel(\"Age\",fontsize=15)\n",
    "plt.ylabel(\"Frequency\",fontsize=15)\n",
    "plt.suptitle('Distribution of users by age', x=0.5, y=1.05, ha='center', fontsize='xx-large')"
   ]
  },
  {
   "cell_type": "markdown",
   "metadata": {},
   "source": [
    "### The first trend we can see is in age. We see a much larger distribution in ages < 40.  I would then suggest we look into the age and its relaiton to other attriburtes (like region, profession, etc.)"
   ]
  },
  {
   "cell_type": "markdown",
   "metadata": {},
   "source": [
    "Now I am going to look at the tiles and see if there is anything significant. "
   ]
  },
  {
   "cell_type": "code",
   "execution_count": 151,
   "metadata": {},
   "outputs": [
    {
     "data": {
      "text/html": [
       "<div>\n",
       "<style>\n",
       "    .dataframe thead tr:only-child th {\n",
       "        text-align: right;\n",
       "    }\n",
       "\n",
       "    .dataframe thead th {\n",
       "        text-align: left;\n",
       "    }\n",
       "\n",
       "    .dataframe tbody tr th {\n",
       "        vertical-align: top;\n",
       "    }\n",
       "</style>\n",
       "<table border=\"1\" class=\"dataframe\">\n",
       "  <thead>\n",
       "    <tr style=\"text-align: right;\">\n",
       "      <th></th>\n",
       "      <th>id</th>\n",
       "      <th>title</th>\n",
       "    </tr>\n",
       "  </thead>\n",
       "  <tbody>\n",
       "    <tr>\n",
       "      <th>0</th>\n",
       "      <td>2</td>\n",
       "      <td>Assistant professor</td>\n",
       "    </tr>\n",
       "    <tr>\n",
       "      <th>1</th>\n",
       "      <td>1</td>\n",
       "      <td>Full professor</td>\n",
       "    </tr>\n",
       "    <tr>\n",
       "      <th>2</th>\n",
       "      <td>6</td>\n",
       "      <td>Other</td>\n",
       "    </tr>\n",
       "    <tr>\n",
       "      <th>3</th>\n",
       "      <td>3</td>\n",
       "      <td>Postdoctoral assistant</td>\n",
       "    </tr>\n",
       "    <tr>\n",
       "      <th>4</th>\n",
       "      <td>5</td>\n",
       "      <td>Student</td>\n",
       "    </tr>\n",
       "  </tbody>\n",
       "</table>\n",
       "</div>"
      ],
      "text/plain": [
       "   id                   title\n",
       "0   2     Assistant professor\n",
       "1   1          Full professor\n",
       "2   6                   Other\n",
       "3   3  Postdoctoral assistant\n",
       "4   5                 Student"
      ]
     },
     "execution_count": 151,
     "metadata": {},
     "output_type": "execute_result"
    }
   ],
   "source": [
    "titles.head()"
   ]
  },
  {
   "cell_type": "code",
   "execution_count": 152,
   "metadata": {},
   "outputs": [
    {
     "data": {
      "text/plain": [
       "[5, 3, 6, 2, 1]"
      ]
     },
     "execution_count": 152,
     "metadata": {},
     "output_type": "execute_result"
    }
   ],
   "source": [
    "titleFreqTable = user_data['title_id'].value_counts()\n",
    "list(titleFreqTable.index)"
   ]
  },
  {
   "cell_type": "code",
   "execution_count": 153,
   "metadata": {},
   "outputs": [
    {
     "data": {
      "text/plain": [
       "Text(0.5,1,'User Professions')"
      ]
     },
     "execution_count": 153,
     "metadata": {},
     "output_type": "execute_result"
    },
    {
     "data": {
      "image/png": "[encoded data removed]",
      "text/plain": [
       "<matplotlib.figure.Figure at 0x201cafc42b0>"
      ]
     },
     "metadata": {},
     "output_type": "display_data"
    }
   ],
   "source": [
    "labelNames = ['Student', 'Postdoctoral assistant', 'Other', 'Assistant professor', 'Full professor']\n",
    "positionsForBars = list(range(len(labelNames)))\n",
    "my_colors = 'rgbkymc'\n",
    "plt.barh(positionsForBars,titleFreqTable.values, color=my_colors) # plot our bars\n",
    "plt.yticks(positionsForBars,labelNames) # add lables\n",
    "plt.title(\"User Professions\", fontweight=\"bold\",fontsize=30)"
   ]
  },
  {
   "cell_type": "markdown",
   "metadata": {},
   "source": [
    "### Looking at professions we see that there is a trend of students. I would suggest looking further into this."
   ]
  },
  {
   "cell_type": "markdown",
   "metadata": {},
   "source": [
    "Next I looked for another trend among regions."
   ]
  },
  {
   "cell_type": "code",
   "execution_count": 154,
   "metadata": {
    "scrolled": false
   },
   "outputs": [
    {
     "data": {
      "text/plain": [
       "Text(0.5,1,'Most Common Regions')"
      ]
     },
     "execution_count": 154,
     "metadata": {},
     "output_type": "execute_result"
    },
    {
     "data": {
      "image/png": "[encoded data removed]",
      "text/plain": [
       "<matplotlib.figure.Figure at 0x201cafc4128>"
      ]
     },
     "metadata": {},
     "output_type": "display_data"
    }
   ],
   "source": [
    "my_colors = 'rgbkymc'\n",
    "user_data['region'].value_counts(sort=True).plot.barh(color=my_colors).set_title('Most Common Regions')"
   ]
  },
  {
   "cell_type": "markdown",
   "metadata": {},
   "source": [
    "### a. \n",
    "### i) How much web traffic are users' profiles receiving from combined internal and external sources?"
   ]
  },
  {
   "cell_type": "code",
   "execution_count": 156,
   "metadata": {},
   "outputs": [
    {
     "name": "stdout",
     "output_type": "stream",
     "text": [
      "(335636, 3)\n",
      "\n",
      " 1318492\n"
     ]
    }
   ],
   "source": [
    "print(external_profile_data.shape)\n",
    "external_sum = external_profile_data['unique_PageViews'].sum()\n",
    "print(\"\\n\",external_sum)"
   ]
  },
  {
   "cell_type": "code",
   "execution_count": 157,
   "metadata": {},
   "outputs": [
    {
     "name": "stdout",
     "output_type": "stream",
     "text": [
      "\n",
      " (10806, 4)\n"
     ]
    }
   ],
   "source": [
    "internal_profile_data = internal_profile_data.sort_values(['user_id'], ascending=True)\n",
    "print(\"\\n\",internal_profile_data.shape)"
   ]
  },
  {
   "cell_type": "code",
   "execution_count": 158,
   "metadata": {},
   "outputs": [
    {
     "name": "stdout",
     "output_type": "stream",
     "text": [
      "0.8129102729410561\n",
      "99.18708972705895\n"
     ]
    }
   ],
   "source": [
    "internal_sum = 10806\n",
    "total_views_sum = external_sum + internal_sum \n",
    "internal_percent = (internal_sum/total_views_sum) *100\n",
    "print(internal_percent)\n",
    "external_percent = (external_sum/total_views_sum) *100\n",
    "print(external_percent)"
   ]
  },
  {
   "cell_type": "code",
   "execution_count": 159,
   "metadata": {},
   "outputs": [
    {
     "name": "stdout",
     "output_type": "stream",
     "text": [
      "Web Traffic from combined resources:  1329298\n"
     ]
    }
   ],
   "source": [
    "print(\"Web Traffic from combined resources: \", total_views_sum)"
   ]
  },
  {
   "cell_type": "code",
   "execution_count": 160,
   "metadata": {},
   "outputs": [
    {
     "data": {
      "image/png": "[encoded data removed]",
      "text/plain": [
       "<matplotlib.figure.Figure at 0x201cc03d9e8>"
      ]
     },
     "metadata": {},
     "output_type": "display_data"
    }
   ],
   "source": [
    "names = 'Internal Views', 'External Views'\n",
    "size_of_groups = [internal_percent, external_percent]\n",
    "plt.pie(size_of_groups,labels=names)\n",
    "my_circle=plt.Circle( (0,0), 0.7, color='white')\n",
    "p=plt.gcf()\n",
    "p.gca().add_artist(my_circle)\n",
    " \n",
    "plt.show()"
   ]
  },
  {
   "cell_type": "markdown",
   "metadata": {},
   "source": [
    "### ii)  Is it reasonable to include both sources in the product feature?\n",
    "\n",
    "### Looking at the data, it seems that external views is the generates the most views, looking at the source may potentially be sufficient enough."
   ]
  },
  {
   "cell_type": "markdown",
   "metadata": {},
   "source": [
    "### b) How would you present the profile view data in a “Rank for profile views” feature? Please provide code to achieve this."
   ]
  },
  {
   "cell_type": "markdown",
   "metadata": {},
   "source": [
    "Looking at external views first I would sort our dateframe based on unique page views "
   ]
  },
  {
   "cell_type": "code",
   "execution_count": 203,
   "metadata": {},
   "outputs": [
    {
     "data": {
      "text/html": [
       "<div>\n",
       "<style>\n",
       "    .dataframe thead tr:only-child th {\n",
       "        text-align: right;\n",
       "    }\n",
       "\n",
       "    .dataframe thead th {\n",
       "        text-align: left;\n",
       "    }\n",
       "\n",
       "    .dataframe tbody tr th {\n",
       "        vertical-align: top;\n",
       "    }\n",
       "</style>\n",
       "<table border=\"1\" class=\"dataframe\">\n",
       "  <thead>\n",
       "    <tr style=\"text-align: right;\">\n",
       "      <th></th>\n",
       "      <th>id</th>\n",
       "      <th>public_profile_url</th>\n",
       "      <th>unique_PageViews</th>\n",
       "    </tr>\n",
       "  </thead>\n",
       "  <tbody>\n",
       "    <tr>\n",
       "      <th>248373</th>\n",
       "      <td>248374</td>\n",
       "      <td>/pub/patricia-valenzuela</td>\n",
       "      <td>1124</td>\n",
       "    </tr>\n",
       "    <tr>\n",
       "      <th>23582</th>\n",
       "      <td>23583</td>\n",
       "      <td>/cv/dana-oliveros-ms</td>\n",
       "      <td>1086</td>\n",
       "    </tr>\n",
       "    <tr>\n",
       "      <th>249587</th>\n",
       "      <td>249588</td>\n",
       "      <td>/cv/clayton-ritchie</td>\n",
       "      <td>764</td>\n",
       "    </tr>\n",
       "    <tr>\n",
       "      <th>222280</th>\n",
       "      <td>222281</td>\n",
       "      <td>/cv/ernestine-lusk-phd</td>\n",
       "      <td>593</td>\n",
       "    </tr>\n",
       "    <tr>\n",
       "      <th>207890</th>\n",
       "      <td>207891</td>\n",
       "      <td>/cv/bobbie-banks-phd</td>\n",
       "      <td>563</td>\n",
       "    </tr>\n",
       "  </tbody>\n",
       "</table>\n",
       "</div>"
      ],
      "text/plain": [
       "            id        public_profile_url  unique_PageViews\n",
       "248373  248374  /pub/patricia-valenzuela              1124\n",
       "23582    23583      /cv/dana-oliveros-ms              1086\n",
       "249587  249588       /cv/clayton-ritchie               764\n",
       "222280  222281    /cv/ernestine-lusk-phd               593\n",
       "207890  207891      /cv/bobbie-banks-phd               563"
      ]
     },
     "execution_count": 203,
     "metadata": {},
     "output_type": "execute_result"
    }
   ],
   "source": [
    "external = external_profile_data.sort_values(['unique_PageViews'], ascending=False)\n",
    "external.head()"
   ]
  },
  {
   "cell_type": "markdown",
   "metadata": {},
   "source": [
    "Now I am going look at the internal profile data."
   ]
  },
  {
   "cell_type": "code",
   "execution_count": 168,
   "metadata": {},
   "outputs": [
    {
     "data": {
      "text/html": [
       "<div>\n",
       "<style>\n",
       "    .dataframe thead tr:only-child th {\n",
       "        text-align: right;\n",
       "    }\n",
       "\n",
       "    .dataframe thead th {\n",
       "        text-align: left;\n",
       "    }\n",
       "\n",
       "    .dataframe tbody tr th {\n",
       "        vertical-align: top;\n",
       "    }\n",
       "</style>\n",
       "<table border=\"1\" class=\"dataframe\">\n",
       "  <thead>\n",
       "    <tr style=\"text-align: right;\">\n",
       "      <th></th>\n",
       "      <th>id</th>\n",
       "      <th>user_id</th>\n",
       "      <th>viewed_user_id</th>\n",
       "      <th>created_at</th>\n",
       "    </tr>\n",
       "  </thead>\n",
       "  <tbody>\n",
       "    <tr>\n",
       "      <th>10398</th>\n",
       "      <td>6680</td>\n",
       "      <td>4185263</td>\n",
       "      <td>10058</td>\n",
       "      <td>2014-01-01 10:26:22</td>\n",
       "    </tr>\n",
       "    <tr>\n",
       "      <th>7854</th>\n",
       "      <td>5870</td>\n",
       "      <td>3162674</td>\n",
       "      <td>10103</td>\n",
       "      <td>2014-01-01 05:58:15</td>\n",
       "    </tr>\n",
       "    <tr>\n",
       "      <th>5723</th>\n",
       "      <td>3029</td>\n",
       "      <td>2252759</td>\n",
       "      <td>10419</td>\n",
       "      <td>2014-01-01 18:10:06</td>\n",
       "    </tr>\n",
       "    <tr>\n",
       "      <th>8315</th>\n",
       "      <td>1026</td>\n",
       "      <td>3341405</td>\n",
       "      <td>10419</td>\n",
       "      <td>2014-01-01 06:53:05</td>\n",
       "    </tr>\n",
       "    <tr>\n",
       "      <th>3448</th>\n",
       "      <td>5436</td>\n",
       "      <td>1382250</td>\n",
       "      <td>10610</td>\n",
       "      <td>2014-01-01 03:24:49</td>\n",
       "    </tr>\n",
       "  </tbody>\n",
       "</table>\n",
       "</div>"
      ],
      "text/plain": [
       "         id  user_id  viewed_user_id           created_at\n",
       "10398  6680  4185263           10058  2014-01-01 10:26:22\n",
       "7854   5870  3162674           10103  2014-01-01 05:58:15\n",
       "5723   3029  2252759           10419  2014-01-01 18:10:06\n",
       "8315   1026  3341405           10419  2014-01-01 06:53:05\n",
       "3448   5436  1382250           10610  2014-01-01 03:24:49"
      ]
     },
     "execution_count": 168,
     "metadata": {},
     "output_type": "execute_result"
    }
   ],
   "source": [
    "internal_profile_data = internal_profile_data.sort_values(['viewed_user_id'])\n",
    "internal_profile_data.head()"
   ]
  },
  {
   "cell_type": "code",
   "execution_count": 66,
   "metadata": {},
   "outputs": [
    {
     "data": {
      "text/plain": [
       "pandas.core.series.Series"
      ]
     },
     "execution_count": 66,
     "metadata": {},
     "output_type": "execute_result"
    }
   ],
   "source": [
    "viewed_users = internal_profile_data['viewed_user_id']\n",
    "type(viewed_users)"
   ]
  },
  {
   "cell_type": "code",
   "execution_count": 93,
   "metadata": {},
   "outputs": [
    {
     "data": {
      "text/plain": [
       "1740253    406\n",
       "2185215    383\n",
       "2632343    180\n",
       "3086119     88\n",
       "1287442     88\n",
       "Name: viewed_user_id, dtype: int64"
      ]
     },
     "execution_count": 93,
     "metadata": {},
     "output_type": "execute_result"
    }
   ],
   "source": [
    "viewed_users.value_counts().head()"
   ]
  },
  {
   "cell_type": "code",
   "execution_count": 251,
   "metadata": {},
   "outputs": [
    {
     "name": "stdout",
     "output_type": "stream",
     "text": [
      "Top Ranked Profiles \n",
      "\n",
      "firstname lastname  age     region\n",
      "   Tommy   Proulx   20  Northeast\n",
      "Profession:  Full professor\n",
      "Public URL:  /cv/tommy-proulx\n",
      "\n",
      "\n",
      "firstname lastname  age   region\n",
      "    Adam    Towns   21  Midwest\n",
      "Profession:  Full professor\n",
      "Public URL:  /pub/adam-towns\n",
      "External Page Views:  2 \n",
      "\n",
      "firstname lastname  age region\n",
      "   Diane  Holland   24  South\n",
      "Profession:  Full professor\n",
      "Public URL:  /pub/diane-holland\n",
      "\n",
      "\n",
      "firstname lastname  age     region\n",
      "Savannah   Murphy   21  Northeast\n",
      "Profession:  Assistant professor\n",
      "Public URL:  /cv/savannah-murphy\n",
      "\n",
      "\n",
      "firstname  lastname  age   region\n",
      "    Edna  Castillo   29  Midwest\n",
      "Profession:  Full professor\n",
      "Public URL:  /pub/edna-castillo\n",
      "\n",
      "\n",
      "firstname lastname  age   region\n",
      " Shirley   Medina   60  Midwest\n",
      "Profession:  Full professor\n",
      "Public URL:  /cv/shirley-medina\n",
      "\n",
      "\n",
      "firstname  lastname  age   region\n",
      "  Sandra  Phillips   67  Midwest\n",
      "Profession:  Full professor\n",
      "Public URL:  /pub/sandra-phillips\n",
      "\n",
      "\n",
      "firstname lastname  age   region\n",
      "  Howard   Rivera   27  Midwest\n",
      "Profession:  Full professor\n",
      "Public URL:  /pub/howard-rivera\n",
      "External Page Views:  1 \n",
      "\n",
      "firstname lastname  age region\n",
      "  Robert   Barron   65  South\n",
      "Profession:  Postdoctoral assistant\n",
      "Public URL:  /cv/robert-barron\n",
      "\n",
      "\n",
      "firstname lastname  age   region\n",
      "   Kathy  Saeteun   68  Midwest\n",
      "Profession:  Full professor\n",
      "Public URL:  /pub/kathy-saeteun\n",
      "External Page Views:  3 \n",
      "\n"
     ]
    }
   ],
   "source": [
    "print('Top Ranked Profiles \\n')\n",
    "for i in viewed_users.value_counts().head(10).index.tolist():\n",
    "    p = user_data.loc[user_data['id'] == i, ['firstname', 'lastname','age','region']]\n",
    "    print(p.to_string(index=False))\n",
    "    #profile url\n",
    "    c = user_profile_urls.loc[user_data['id'] == i]['profile_url']\n",
    "    #profession\n",
    "    d = user_data.loc[user_data['id'] == i]['title_id']\n",
    "    for t in d:\n",
    "        x = titles.loc[titles['id'] == t]['title']\n",
    "        for m in x:\n",
    "            print(\"Profession: \", m)\n",
    "   \n",
    "    for t in c:\n",
    "\n",
    "        d2 = external.loc[external['public_profile_url'] == t]['unique_PageViews']\n",
    "        print(\"Public URL: \", t) \n",
    "        if not d2.empty:\n",
    "            for l in d2:\n",
    "                print(\"External Page Views: \", l, \"\\n\")\n",
    "        else:\n",
    "            print(\"\\n\")\n"
   ]
  }
 ],
 "metadata": {
  "kernelspec": {
   "display_name": "Python 3",
   "language": "python",
   "name": "python3"
  },
  "language_info": {
   "codemirror_mode": {
    "name": "ipython",
    "version": 3
   },
   "file_extension": ".py",
   "mimetype": "text/x-python",
   "name": "python",
   "nbconvert_exporter": "python",
   "pygments_lexer": "ipython3",
   "version": "3.6.3"
  }
 },
 "nbformat": 4,
 "nbformat_minor": 2
}
