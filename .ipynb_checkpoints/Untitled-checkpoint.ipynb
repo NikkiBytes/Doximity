{
 "cells": [
  {
   "cell_type": "markdown",
   "metadata": {},
   "source": [
    "# Doximity Data Analyst Coding Challenge\n",
    "## Author: Nichollette Acosta "
   ]
  },
  {
   "cell_type": "markdown",
   "metadata": {},
   "source": [
    "### 2) The product manager has some questions about the data and is looking to you for some insight. Using python, please perform analyses using the compressed CSVs provided (assume they are up-to-date dumps of the tables shown in the database schema above) to address the following questions, providing a written explanation to the product manager of what you find for each."
   ]
  },
  {
   "cell_type": "code",
   "execution_count": 1,
   "metadata": {
    "collapsed": true
   },
   "outputs": [],
   "source": [
    "%matplotlib inline\n",
    "import pandas as pd\n",
    "import numpy as np\n",
    "import seaborn as sea\n",
    "import matplotlib.pyplot as plt"
   ]
  },
  {
   "cell_type": "code",
   "execution_count": 2,
   "metadata": {
    "collapsed": true
   },
   "outputs": [],
   "source": [
    "user_data = pd.read_csv(\"users.csv\")\n",
    "user_profile_urls = pd.read_csv(\"user_profile_urls.csv\")\n",
    "titles = pd.read_csv(\"titles.csv\")\n",
    "internal_profile_data = pd.read_csv(\"internal_profile_views.csv\")\n",
    "external_profile_data = pd.read_csv(\"external_profile_views.csv\")"
   ]
  },
  {
   "cell_type": "markdown",
   "metadata": {},
   "source": [
    "#### a. Identify one or two trends in the data that are interesting from a data perspective. Do the trends you observe have any effect on how you would build your ranking feature? In a sentence or two, how would you communicate these findings to a non-technical project manager?"
   ]
  },
  {
   "cell_type": "markdown",
   "metadata": {},
   "source": [
    "Sorting the data from <i>users.csv</i> by age and firstname. "
   ]
  },
  {
   "cell_type": "code",
   "execution_count": 3,
   "metadata": {},
   "outputs": [
    {
     "data": {
      "text/html": [
       "<div>\n",
       "<style>\n",
       "    .dataframe thead tr:only-child th {\n",
       "        text-align: right;\n",
       "    }\n",
       "\n",
       "    .dataframe thead th {\n",
       "        text-align: left;\n",
       "    }\n",
       "\n",
       "    .dataframe tbody tr th {\n",
       "        vertical-align: top;\n",
       "    }\n",
       "</style>\n",
       "<table border=\"1\" class=\"dataframe\">\n",
       "  <thead>\n",
       "    <tr style=\"text-align: right;\">\n",
       "      <th></th>\n",
       "      <th>id</th>\n",
       "      <th>firstname</th>\n",
       "      <th>lastname</th>\n",
       "      <th>age</th>\n",
       "      <th>region</th>\n",
       "      <th>title_id</th>\n",
       "    </tr>\n",
       "  </thead>\n",
       "  <tbody>\n",
       "    <tr>\n",
       "      <th>31028</th>\n",
       "      <td>225306</td>\n",
       "      <td>Aaron</td>\n",
       "      <td>Smith</td>\n",
       "      <td>20</td>\n",
       "      <td>Other</td>\n",
       "      <td>6</td>\n",
       "    </tr>\n",
       "    <tr>\n",
       "      <th>44740</th>\n",
       "      <td>335488</td>\n",
       "      <td>Aaron</td>\n",
       "      <td>Homer</td>\n",
       "      <td>20</td>\n",
       "      <td>South</td>\n",
       "      <td>1</td>\n",
       "    </tr>\n",
       "    <tr>\n",
       "      <th>49333</th>\n",
       "      <td>359101</td>\n",
       "      <td>Aaron</td>\n",
       "      <td>Lemasters</td>\n",
       "      <td>20</td>\n",
       "      <td>Midwest</td>\n",
       "      <td>6</td>\n",
       "    </tr>\n",
       "    <tr>\n",
       "      <th>52088</th>\n",
       "      <td>378358</td>\n",
       "      <td>Aaron</td>\n",
       "      <td>Allison</td>\n",
       "      <td>20</td>\n",
       "      <td>Northeast</td>\n",
       "      <td>2</td>\n",
       "    </tr>\n",
       "    <tr>\n",
       "      <th>55808</th>\n",
       "      <td>403417</td>\n",
       "      <td>Aaron</td>\n",
       "      <td>King</td>\n",
       "      <td>20</td>\n",
       "      <td>Midwest</td>\n",
       "      <td>5</td>\n",
       "    </tr>\n",
       "  </tbody>\n",
       "</table>\n",
       "</div>"
      ],
      "text/plain": [
       "           id firstname   lastname  age     region  title_id\n",
       "31028  225306     Aaron      Smith   20      Other         6\n",
       "44740  335488     Aaron      Homer   20      South         1\n",
       "49333  359101     Aaron  Lemasters   20    Midwest         6\n",
       "52088  378358     Aaron    Allison   20  Northeast         2\n",
       "55808  403417     Aaron       King   20    Midwest         5"
      ]
     },
     "execution_count": 3,
     "metadata": {},
     "output_type": "execute_result"
    }
   ],
   "source": [
    "user_data = user_data.sort_values(['age', 'firstname'], ascending=True)\n",
    "user_data.head()"
   ]
  },
  {
   "cell_type": "markdown",
   "metadata": {},
   "source": [
    "Looking at the shape of our user data we see have 600,000 rows (users). "
   ]
  },
  {
   "cell_type": "code",
   "execution_count": 5,
   "metadata": {},
   "outputs": [
    {
     "data": {
      "text/plain": [
       "(600000, 6)"
      ]
     },
     "execution_count": 5,
     "metadata": {},
     "output_type": "execute_result"
    }
   ],
   "source": [
    "user_data.shape"
   ]
  },
  {
   "cell_type": "markdown",
   "metadata": {},
   "source": [
    "Plotting a histogram to look at the distribution of age of our users."
   ]
  },
  {
   "cell_type": "code",
   "execution_count": 20,
   "metadata": {},
   "outputs": [
    {
     "data": {
      "text/plain": [
       "Text(0.5,1.05,'Distribution of users by age')"
      ]
     },
     "execution_count": 20,
     "metadata": {},
     "output_type": "execute_result"
    },
    {
     "data": {
      "text/plain": [
       "<matplotlib.figure.Figure at 0x242b1f06908>"
      ]
     },
     "metadata": {},
     "output_type": "display_data"
    },
    {
     "data": {
      "image/png": "[encoded data removed]",
      "text/plain": [
       "<matplotlib.figure.Figure at 0x242b1f06828>"
      ]
     },
     "metadata": {},
     "output_type": "display_data"
    }
   ],
   "source": [
    "plt.figure();\n",
    "user_data.hist(column='age')\n",
    "plt.xlabel(\"Age\",fontsize=15)\n",
    "plt.ylabel(\"Frequency\",fontsize=15)\n",
    "plt.suptitle('Distribution of users by age', x=0.5, y=1.05, ha='center', fontsize='xx-large')"
   ]
  },
  {
   "cell_type": "code",
   "execution_count": 29,
   "metadata": {},
   "outputs": [
    {
     "data": {
      "text/plain": [
       "'plt.figure();\\nuser_data.hist(column=\\'age\\',by=\\'region\\')\\nplt.xlabel(\"Age\",fontsize=15)\\nplt.ylabel(\"Frequency\",fontsize=15)\\nplt.suptitle(\\'Distribution of users age by region\\', x=0.5, y=1.05, ha=\\'center\\', fontsize=\\'xx-large\\')\\n'"
      ]
     },
     "execution_count": 29,
     "metadata": {},
     "output_type": "execute_result"
    }
   ],
   "source": [
    "'''plt.figure();\n",
    "user_data.hist(column='age',by='region')\n",
    "plt.xlabel(\"Age\",fontsize=15)\n",
    "plt.ylabel(\"Frequency\",fontsize=15)\n",
    "plt.suptitle('Distribution of users age by region', x=0.5, y=1.05, ha='center', fontsize='xx-large')\n",
    "'''"
   ]
  },
  {
   "cell_type": "code",
   "execution_count": null,
   "metadata": {
    "collapsed": true
   },
   "outputs": [],
   "source": []
  },
  {
   "cell_type": "markdown",
   "metadata": {},
   "source": [
    "Looking for the most common region"
   ]
  },
  {
   "cell_type": "code",
   "execution_count": 7,
   "metadata": {
    "scrolled": false
   },
   "outputs": [
    {
     "data": {
      "text/plain": [
       "Text(0.5,1,'Most Common Regions')"
      ]
     },
     "execution_count": 7,
     "metadata": {},
     "output_type": "execute_result"
    },
    {
     "data": {
      "image/png": "[encoded data removed]",
      "text/plain": [
       "<matplotlib.figure.Figure at 0x242af531198>"
      ]
     },
     "metadata": {},
     "output_type": "display_data"
    }
   ],
   "source": [
    "my_colors = 'rgbkymc'\n",
    "user_data['region'].value_counts(sort=True).plot.barh(color=my_colors).set_title('Most Common Regions')"
   ]
  },
  {
   "cell_type": "markdown",
   "metadata": {},
   "source": [
    "Looking at 'external_profile_data.csv', sorting it based on the page views."
   ]
  },
  {
   "cell_type": "code",
   "execution_count": 44,
   "metadata": {},
   "outputs": [
    {
     "data": {
      "text/html": [
       "<div>\n",
       "<style>\n",
       "    .dataframe thead tr:only-child th {\n",
       "        text-align: right;\n",
       "    }\n",
       "\n",
       "    .dataframe thead th {\n",
       "        text-align: left;\n",
       "    }\n",
       "\n",
       "    .dataframe tbody tr th {\n",
       "        vertical-align: top;\n",
       "    }\n",
       "</style>\n",
       "<table border=\"1\" class=\"dataframe\">\n",
       "  <thead>\n",
       "    <tr style=\"text-align: right;\">\n",
       "      <th></th>\n",
       "      <th>id</th>\n",
       "      <th>title</th>\n",
       "    </tr>\n",
       "  </thead>\n",
       "  <tbody>\n",
       "    <tr>\n",
       "      <th>0</th>\n",
       "      <td>2</td>\n",
       "      <td>Assistant professor</td>\n",
       "    </tr>\n",
       "    <tr>\n",
       "      <th>1</th>\n",
       "      <td>1</td>\n",
       "      <td>Full professor</td>\n",
       "    </tr>\n",
       "    <tr>\n",
       "      <th>2</th>\n",
       "      <td>6</td>\n",
       "      <td>Other</td>\n",
       "    </tr>\n",
       "    <tr>\n",
       "      <th>3</th>\n",
       "      <td>3</td>\n",
       "      <td>Postdoctoral assistant</td>\n",
       "    </tr>\n",
       "    <tr>\n",
       "      <th>4</th>\n",
       "      <td>5</td>\n",
       "      <td>Student</td>\n",
       "    </tr>\n",
       "  </tbody>\n",
       "</table>\n",
       "</div>"
      ],
      "text/plain": [
       "   id                   title\n",
       "0   2     Assistant professor\n",
       "1   1          Full professor\n",
       "2   6                   Other\n",
       "3   3  Postdoctoral assistant\n",
       "4   5                 Student"
      ]
     },
     "execution_count": 44,
     "metadata": {},
     "output_type": "execute_result"
    }
   ],
   "source": [
    "titles.head()"
   ]
  },
  {
   "cell_type": "code",
   "execution_count": 45,
   "metadata": {},
   "outputs": [
    {
     "data": {
      "text/plain": [
       "[5, 3, 6, 2, 1]"
      ]
     },
     "execution_count": 45,
     "metadata": {},
     "output_type": "execute_result"
    }
   ],
   "source": [
    "titleFreqTable = user_data['title_id'].value_counts()\n",
    "list(titleFreqTable.index)"
   ]
  },
  {
   "cell_type": "code",
   "execution_count": 125,
   "metadata": {},
   "outputs": [
    {
     "data": {
      "text/plain": [
       "Text(0.5,1,'User Professions')"
      ]
     },
     "execution_count": 125,
     "metadata": {},
     "output_type": "execute_result"
    },
    {
     "data": {
      "image/png": "[encoded data removed]",
      "text/plain": [
       "<matplotlib.figure.Figure at 0x29fcbaf1208>"
      ]
     },
     "metadata": {},
     "output_type": "display_data"
    }
   ],
   "source": [
    "labelNames = ['Student', 'Postdoctoral assistant', 'Other', 'Assistant professor', 'Full professor']\n",
    "positionsForBars = list(range(len(labelNames)))\n",
    "my_colors = 'rgbkymc'\n",
    "plt.barh(positionsForBars,titleFreqTable.values, color=my_colors) # plot our bars\n",
    "plt.yticks(positionsForBars,labelNames) # add lables\n",
    "plt.title(\"User Professions\", fontweight=\"bold\",fontsize=30)"
   ]
  },
  {
   "cell_type": "markdown",
   "metadata": {},
   "source": [
    "#### a. How much web traffic are users' profiles receiving from combined internal and external sources? Is it reasonable to include both sources in the product feature?"
   ]
  },
  {
   "cell_type": "code",
   "execution_count": 77,
   "metadata": {},
   "outputs": [
    {
     "data": {
      "text/plain": [
       "(335636, 3)"
      ]
     },
     "execution_count": 77,
     "metadata": {},
     "output_type": "execute_result"
    }
   ],
   "source": [
    "external_profile_data.shape"
   ]
  },
  {
   "cell_type": "code",
   "execution_count": 101,
   "metadata": {},
   "outputs": [
    {
     "name": "stdout",
     "output_type": "stream",
     "text": [
      "            id        public_profile_url  unique_PageViews\n",
      "248373  248374  /pub/patricia-valenzuela              1124\n",
      "23582    23583      /cv/dana-oliveros-ms              1086\n",
      "249587  249588       /cv/clayton-ritchie               764\n",
      "222280  222281    /cv/ernestine-lusk-phd               593\n",
      "207890  207891      /cv/bobbie-banks-phd               563\n",
      "\n",
      " 1318492\n"
     ]
    }
   ],
   "source": [
    "external_profile_data = external_profile_data.sort_values(['unique_PageViews'], ascending=False)\n",
    "print(external_profile_data.head())\n",
    "external_sum = external_profile_data['unique_PageViews'].sum()\n",
    "print(\"\\n\",external_sums)"
   ]
  },
  {
   "cell_type": "code",
   "execution_count": 102,
   "metadata": {},
   "outputs": [
    {
     "name": "stdout",
     "output_type": "stream",
     "text": [
      "     id  user_id  viewed_user_id           created_at\n",
      "0  6997    10056         2202188  2014-01-01 12:11:09\n",
      "1  3177    10112          116842  2014-01-01 18:56:17\n",
      "2  4534    10126         1959444  2014-01-01 02:31:26\n",
      "3  9207    10298          728722  2014-01-01 12:22:53\n",
      "4  6477    10324          586110  2014-01-01 09:18:52\n",
      "\n",
      " (10806, 4)\n"
     ]
    }
   ],
   "source": [
    "internal_profile_data = internal_profile_data.sort_values(['user_id'], ascending=True)\n",
    "print(internal_profile_data.head())\n",
    "print(\"\\n\",internal_profile_data.shape)"
   ]
  },
  {
   "cell_type": "code",
   "execution_count": 119,
   "metadata": {},
   "outputs": [
    {
     "name": "stdout",
     "output_type": "stream",
     "text": [
      "0.8129102729410561\n",
      "99.18708972705895\n"
     ]
    }
   ],
   "source": [
    "internal_sum = 10806\n",
    "total_views_sum = external_sum + internal_sum \n",
    "internal_percent = (internal_sum/total_views_sum) *100\n",
    "print(internal_percent)\n",
    "external_percent = (external_sum/total_views_sum) *100\n",
    "print(external_percent)"
   ]
  },
  {
   "cell_type": "code",
   "execution_count": 123,
   "metadata": {},
   "outputs": [
    {
     "data": {
      "image/png": "[encoded data removed]",
      "text/plain": [
       "<matplotlib.figure.Figure at 0x29fc6e8b278>"
      ]
     },
     "metadata": {},
     "output_type": "display_data"
    }
   ],
   "source": [
    "names = 'Internal Views', 'External Views'\n",
    "size_of_groups = [internal_percent, external_percent]\n",
    "plt.pie(size_of_groups,labels=names)\n",
    "my_circle=plt.Circle( (0,0), 0.7, color='white')\n",
    "p=plt.gcf()\n",
    "p.gca().add_artist(my_circle)\n",
    " \n",
    "plt.show()"
   ]
  },
  {
   "cell_type": "markdown",
   "metadata": {},
   "source": [
    "#### b.How would you present the profile view data in a “Rank for profile views” feature? Please provide code to achieve this."
   ]
  },
  {
   "cell_type": "markdown",
   "metadata": {},
   "source": [
    "Looking at external views first I would "
   ]
  }
 ],
 "metadata": {
  "kernelspec": {
   "display_name": "Python 3",
   "language": "python",
   "name": "python3"
  },
  "language_info": {
   "codemirror_mode": {
    "name": "ipython",
    "version": 3
   },
   "file_extension": ".py",
   "mimetype": "text/x-python",
   "name": "python",
   "nbconvert_exporter": "python",
   "pygments_lexer": "ipython3",
   "version": "3.6.3"
  }
 },
 "nbformat": 4,
 "nbformat_minor": 2
}
